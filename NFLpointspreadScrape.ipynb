{
 "cells": [
  {
   "cell_type": "markdown",
   "id": "a8842c3b",
   "metadata": {},
   "source": [
    "Collecting Data from TeamRankings.com using a Python module for webscraping.\n",
    "Collected Team performance After Win (Since 2003)\n",
    "Collected Team performance After Loss (Since 2003)\n",
    "Data includes Team, Record \"Against the Spread\", Percent of Times they Won Against the Pointspread, Margin of Victory, and they're average margin against the spread\n"
   ]
  },
  {
   "cell_type": "code",
   "execution_count": 1,
   "id": "33d65b63",
   "metadata": {},
   "outputs": [],
   "source": [
    "import urllib.request\n",
    "\n",
    "from pprint import pprint\n",
    "\n",
    "from html_table_parser.parser import HTMLTableParser\n",
    "\n",
    "import pandas as pd"
   ]
  },
  {
   "cell_type": "code",
   "execution_count": 2,
   "id": "72b1daf3",
   "metadata": {},
   "outputs": [],
   "source": [
    "def url_get_contents(url):\n",
    "\n",
    "    req = urllib.request.Request(url=url)\n",
    "    f = urllib.request.urlopen(req)\n",
    "\n",
    "    return f.read()"
   ]
  },
  {
   "cell_type": "code",
   "execution_count": null,
   "id": "200d2f21",
   "metadata": {},
   "outputs": [],
   "source": [
    "Performance ATS Since 2003 - AFTER A WIN"
   ]
  },
  {
   "cell_type": "code",
   "execution_count": 5,
   "id": "796b0ff5",
   "metadata": {},
   "outputs": [
    {
     "name": "stdout",
     "output_type": "stream",
     "text": [
      "[[['Team', 'ATS Record', 'Cover %', 'MOV', 'ATS +/-'],\n",
      "  ['Indianapolis', '108-77-7', '58.4%', '4.4', '+1.5'],\n",
      "  ['New England', '132-102-7', '56.4%', '9.0', '+2.8'],\n",
      "  ['NY Giants', '74-59-3', '55.6%', '1.8', '+0.8'],\n",
      "  ['Green Bay', '104-83-3', '55.6%', '4.2', '+0.9'],\n",
      "  ['Carolina', '81-69-3', '54.0%', '2.2', '+1.0'],\n",
      "  ['Cincinnati', '70-61-3', '53.4%', '0.7', '+0.4'],\n",
      "  ['Baltimore', '93-86-5', '52.0%', '4.6', '+2.2'],\n",
      "  ['LA Chargers', '80-75-3', '51.6%', '3.6', '+1.2'],\n",
      "  ['Kansas City', '82-78-3', '51.2%', '3.6', '+1.1'],\n",
      "  ['Philadelphia', '83-82-1', '50.3%', '3.5', '+1.1'],\n",
      "  ['New Orleans', '86-86-3', '50.0%', '3.2', '+0.2'],\n",
      "  ['LA Rams', '63-63-2', '50.0%', '0.5', '-0.1'],\n",
      "  ['Pittsburgh', '93-93-7', '50.0%', '3.9', '+0.6'],\n",
      "  ['Washington', '58-58-2', '50.0%', '-3.8', '-1.7'],\n",
      "  ['San Francisco', '61-62-4', '49.6%', '0.6', '+0.3'],\n",
      "  ['Miami', '60-61-3', '49.6%', '-2.6', '-1.2'],\n",
      "  ['NY Jets', '58-59-5', '49.6%', '-1.8', '-0.9'],\n",
      "  ['Arizona', '64-66-4', '49.2%', '-1.3', '-0.0'],\n",
      "  ['Buffalo', '61-65-5', '48.4%', '-0.8', '+0.1'],\n",
      "  ['Denver', '77-83-5', '48.1%', '2.3', '-0.1'],\n",
      "  ['Tampa Bay', '56-61-4', '47.9%', '-0.2', '-0.0'],\n",
      "  ['Cleveland', '42-46-2', '47.7%', '-2.9', '-1.3'],\n",
      "  ['Dallas', '76-84-3', '47.5%', '1.3', '-0.9'],\n",
      "  ['Minnesota', '69-79-3', '46.6%', '-0.2', '-1.2'],\n",
      "  ['Seattle', '85-98-4', '46.5%', '2.6', '0.0'],\n",
      "  ['Atlanta', '68-79-2', '46.3%', '0.3', '-0.8'],\n",
      "  ['Chicago', '64-77-3', '45.4%', '0.6', '+0.4'],\n",
      "  ['Jacksonville', '49-59-1', '45.4%', '-2.9', '-1.8'],\n",
      "  ['Houston', '56-70-4', '44.4%', '-1.7', '-1.3'],\n",
      "  ['Detroit', '41-54-4', '43.2%', '-2.6', '-2.3'],\n",
      "  ['Tennessee', '59-78-3', '43.1%', '-0.8', '-1.2'],\n",
      "  ['Las Vegas', '36-62-2', '36.7%', '-7.5', '-4.7']]]\n"
     ]
    }
   ],
   "source": [
    "xhtml = url_get_contents('https://www.teamrankings.com/nfl/trends/ats_trends/?sc=is_after_win&range=yearly_since_2003').decode('utf-8')\n",
    "\n",
    "p = HTMLTableParser()\n",
    "\n",
    "p.feed(xhtml)\n",
    "\n",
    "pprint(p.tables)"
   ]
  },
  {
   "cell_type": "code",
   "execution_count": 15,
   "id": "0ff792c7",
   "metadata": {},
   "outputs": [],
   "source": [
    "since2003afterWin = p.tables\n",
    "\n",
    "import csv \n",
    "with open ('since2003afterWin.csv', 'w', newline='') as f:\n",
    "    writer = csv.writer(f)\n",
    "    writer.writerows(since2003afterWin)"
   ]
  },
  {
   "cell_type": "code",
   "execution_count": 12,
   "id": "3e38fd79",
   "metadata": {
    "scrolled": true
   },
   "outputs": [
    {
     "name": "stdout",
     "output_type": "stream",
     "text": [
      "[[['Team', 'ATS Record', 'Cover %', 'MOV', 'ATS +/-'],\n",
      "  ['New England', '48-24-0', '66.7%', '9.2', '+4.6'],\n",
      "  ['Seattle', '66-43-5', '60.6%', '3.9', '+2.4'],\n",
      "  ['Green Bay', '62-42-4', '59.6%', '4.9', '+2.9'],\n",
      "  ['New Orleans', '69-47-0', '59.5%', '4.3', '+2.9'],\n",
      "  ['Minnesota', '74-54-5', '57.8%', '1.8', '+1.9'],\n",
      "  ['Pittsburgh', '59-44-0', '57.3%', '5.0', '+1.9'],\n",
      "  ['Buffalo', '80-64-4', '55.6%', '-1.9', '+0.4'],\n",
      "  ['Indianapolis', '59-48-1', '55.1%', '1.4', '+1.5'],\n",
      "  ['LA Chargers', '66-57-6', '53.7%', '2.1', '+1.2'],\n",
      "  ['Atlanta', '71-64-2', '52.6%', '0.3', '+0.8'],\n",
      "  ['Arizona', '76-70-2', '52.0%', '-2.7', '-0.4'],\n",
      "  ['Kansas City', '65-60-3', '52.0%', '-0.7', '+0.7'],\n",
      "  ['Carolina', '69-64-3', '51.9%', '-1.7', '-0.1'],\n",
      "  ['Houston', '77-75-3', '50.7%', '-2.4', '-0.4'],\n",
      "  ['Dallas', '60-59-3', '50.4%', '1.7', '+0.2'],\n",
      "  ['Chicago', '68-69-2', '49.6%', '-1.2', '+0.3'],\n",
      "  ['Cincinnati', '69-70-5', '49.6%', '-1.7', '0.0'],\n",
      "  ['Baltimore', '54-55-3', '49.5%', '3.6', '+1.9'],\n",
      "  ['NY Giants', '73-75-3', '49.3%', '-3.6', '-1.9'],\n",
      "  ['Philadelphia', '60-65-1', '48.0%', '-0.2', '-1.1'],\n",
      "  ['Tennessee', '66-72-6', '47.8%', '-2.5', '-1.1'],\n",
      "  ['San Francisco', '71-79-7', '47.3%', '-4.4', '-1.6'],\n",
      "  ['Washington', '73-83-6', '46.8%', '-3.1', '-0.8'],\n",
      "  ['Jacksonville', '78-89-5', '46.7%', '-4.2', '-0.8'],\n",
      "  ['Tampa Bay', '71-82-7', '46.4%', '-2.9', '-0.7'],\n",
      "  ['Las Vegas', '80-93-3', '46.2%', '-5.4', '-1.1'],\n",
      "  ['NY Jets', '73-86-2', '45.9%', '-4.0', '-0.6'],\n",
      "  ['Detroit', '79-95-4', '45.4%', '-5.6', '-1.5'],\n",
      "  ['Miami', '68-82-3', '45.3%', '-3.1', '-0.1'],\n",
      "  ['Cleveland', '82-99-5', '45.3%', '-5.9', '-1.6'],\n",
      "  ['LA Rams', '67-83-5', '44.7%', '-5.4', '-2.3'],\n",
      "  ['Denver', '54-67-3', '44.6%', '-2.1', '-2.1']]]\n"
     ]
    }
   ],
   "source": [
    "xhtml = url_get_contents('https://www.teamrankings.com/nfl/trends/ats_trends/?sc=is_after_loss&range=yearly_since_2003').decode('utf-8')\n",
    "\n",
    "p1 = HTMLTableParser()\n",
    "\n",
    "p1.feed(xhtml)\n",
    "\n",
    "pprint(p1.tables)"
   ]
  },
  {
   "cell_type": "code",
   "execution_count": 13,
   "id": "dc02d81c",
   "metadata": {},
   "outputs": [],
   "source": [
    "since2003afterLoss = p1.tables"
   ]
  },
  {
   "cell_type": "code",
   "execution_count": 16,
   "id": "db825750",
   "metadata": {},
   "outputs": [],
   "source": [
    "with open ('since2003afterLoss.csv', 'w', newline='') as f:\n",
    "    writer = csv.writer(f)\n",
    "    writer.writerows(since2003afterLoss)"
   ]
  },
  {
   "cell_type": "code",
   "execution_count": null,
   "id": "308d031a",
   "metadata": {},
   "outputs": [],
   "source": []
  }
 ],
 "metadata": {
  "kernelspec": {
   "display_name": "Python 3",
   "language": "python",
   "name": "python3"
  },
  "language_info": {
   "codemirror_mode": {
    "name": "ipython",
    "version": 3
   },
   "file_extension": ".py",
   "mimetype": "text/x-python",
   "name": "python",
   "nbconvert_exporter": "python",
   "pygments_lexer": "ipython3",
   "version": "3.8.8"
  }
 },
 "nbformat": 4,
 "nbformat_minor": 5
}
